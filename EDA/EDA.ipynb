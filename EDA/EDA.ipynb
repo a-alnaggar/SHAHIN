{
 "cells": [
  {
   "cell_type": "code",
   "execution_count": 28,
   "id": "d3fc78b0-5796-4209-85c4-b0028c2dc11d",
   "metadata": {
    "ExecuteTime": {
     "end_time": "2023-09-16T15:12:17.481469637Z",
     "start_time": "2023-09-16T15:12:17.439887086Z"
    }
   },
   "outputs": [
    {
     "name": "stdout",
     "output_type": "stream",
     "text": [
      "/home/naggar/repos/Optimus\n"
     ]
    },
    {
     "data": {
      "text/plain": "<IPython.core.display.HTML object>",
      "text/html": "<style>pre { white-space: pre !important; }</style>"
     },
     "metadata": {},
     "output_type": "display_data"
    }
   ],
   "source": [
    "# Change workdir\n",
    "%cd /home/naggar/repos/Optimus\n",
    "\n",
    "import pandas as pd\n",
    "import ipywidgets as widgets\n",
    "\n",
    "import matplotlib.pyplot as plt\n",
    "from wordcloud import WordCloud\n",
    "\n",
    "from ipywidgets import interact\n",
    "from IPython.display import display, HTML\n",
    "\n",
    "from utils.processor import ArProcessor\n",
    "from utils.timeless import TimeLess\n",
    "from utils.logger import logger\n",
    "\n",
    "display(HTML(\"<style>pre { white-space: pre !important; }</style>\"))\n",
    "pd.set_option('display.max_columns', None)"
   ]
  },
  {
   "cell_type": "code",
   "execution_count": 39,
   "id": "59288d6f-1754-4571-97c2-dacdc873ec26",
   "metadata": {
    "ExecuteTime": {
     "end_time": "2023-09-16T15:20:59.391752754Z",
     "start_time": "2023-09-16T15:20:59.348959203Z"
    }
   },
   "outputs": [],
   "source": [
    "dtypes = {'in_reply_to_userid':'str', 'retweet_userid':'str'}\n",
    "eg_tweets = pd.read_csv(\n",
    "    '/home/naggar/repos/twitter_accounts_analysis/data/egypt_tweets_2020/egypt_022020_tweets_csv_hashed.csv', dtype=dtypes,\n",
    "    chunksize=500000, \n",
    "    encoding='utf-8'\n",
    ")"
   ]
  },
  {
   "cell_type": "code",
   "execution_count": 40,
   "outputs": [
    {
     "data": {
      "text/plain": "              tweetid      userid user_display_name user_screen_name  \\\n0  683373784036958211  4573087637         دعاء طارق         do111311   \n1  736322347540598786  4573087637         دعاء طارق         do111311   \n2  691693837136302082  4573087637         دعاء طارق         do111311   \n3  802862266043404288  4573087637         دعاء طارق         do111311   \n4  732544104102563841  4573087637         دعاء طارق         do111311   \n\n  user_reported_location user_profile_description user_profile_url  \\\n0                    NaN                      NaN              NaN   \n1                    NaN                      NaN              NaN   \n2                    NaN                      NaN              NaN   \n3                    NaN                      NaN              NaN   \n4                    NaN                      NaN              NaN   \n\n   follower_count  following_count account_creation_date account_language  \\\n0            5780             1864            2015-12-23               ar   \n1            5780             1864            2015-12-23               ar   \n2            5780             1864            2015-12-23               ar   \n3            5780             1864            2015-12-23               ar   \n4            5780             1864            2015-12-23               ar   \n\n  tweet_language                                         tweet_text  \\\n0            und                            https://t.co/jPILEdTVgb   \n1            und                            https://t.co/uLZvFAUyma   \n2             ar                     هههههه https://t.co/3J1olCVnPn   \n3             ar  #هنضرب_تميم_بالجزمة \\nائتلاف_نساء_مصر \\n#غرد_ف...   \n4             ar                 هههههههههه https://t.co/33LWCHDmix   \n\n         tweet_time    tweet_client_name in_reply_to_userid  \\\n0  2016-01-02 19:46  Twitter for Android                NaN   \n1  2016-05-27 22:25  Twitter for Android                NaN   \n2  2016-01-25 18:47  Twitter for Android                NaN   \n3  2016-11-27 13:10  Twitter for Android                NaN   \n4  2016-05-17 12:11  Twitter for Android                NaN   \n\n   in_reply_to_tweetid  quoted_tweet_tweetid  is_retweet retweet_userid  \\\n0                  NaN                   NaN       False            NaN   \n1                  NaN                   NaN       False            NaN   \n2                  NaN                   NaN       False            NaN   \n3                  NaN                   NaN       False            NaN   \n4                  NaN                   NaN       False            NaN   \n\n   retweet_tweetid latitude longitude  quote_count  reply_count  like_count  \\\n0              NaN   absent    absent          0.0          0.0         0.0   \n1              NaN   absent    absent          0.0          0.0         0.0   \n2              NaN   absent    absent          0.0          0.0         0.0   \n3              NaN   absent    absent          0.0          1.0         0.0   \n4              NaN   absent    absent          0.0          2.0         3.0   \n\n   retweet_count                                           hashtags urls  \\\n0            2.0                                                 []   []   \n1            0.0                                                 []   []   \n2            0.0                                                 []   []   \n3            0.0  ['هنضرب_تميم_بالجزمة', 'غرد_فى_حب_الجيش_المصرى...   []   \n4            1.0                                                 []   []   \n\n  user_mentions  poll_choices  \n0            []           NaN  \n1            []           NaN  \n2            []           NaN  \n3            []           NaN  \n4            []           NaN  ",
      "text/html": "<div>\n<style scoped>\n    .dataframe tbody tr th:only-of-type {\n        vertical-align: middle;\n    }\n\n    .dataframe tbody tr th {\n        vertical-align: top;\n    }\n\n    .dataframe thead th {\n        text-align: right;\n    }\n</style>\n<table border=\"1\" class=\"dataframe\">\n  <thead>\n    <tr style=\"text-align: right;\">\n      <th></th>\n      <th>tweetid</th>\n      <th>userid</th>\n      <th>user_display_name</th>\n      <th>user_screen_name</th>\n      <th>user_reported_location</th>\n      <th>user_profile_description</th>\n      <th>user_profile_url</th>\n      <th>follower_count</th>\n      <th>following_count</th>\n      <th>account_creation_date</th>\n      <th>account_language</th>\n      <th>tweet_language</th>\n      <th>tweet_text</th>\n      <th>tweet_time</th>\n      <th>tweet_client_name</th>\n      <th>in_reply_to_userid</th>\n      <th>in_reply_to_tweetid</th>\n      <th>quoted_tweet_tweetid</th>\n      <th>is_retweet</th>\n      <th>retweet_userid</th>\n      <th>retweet_tweetid</th>\n      <th>latitude</th>\n      <th>longitude</th>\n      <th>quote_count</th>\n      <th>reply_count</th>\n      <th>like_count</th>\n      <th>retweet_count</th>\n      <th>hashtags</th>\n      <th>urls</th>\n      <th>user_mentions</th>\n      <th>poll_choices</th>\n    </tr>\n  </thead>\n  <tbody>\n    <tr>\n      <th>0</th>\n      <td>683373784036958211</td>\n      <td>4573087637</td>\n      <td>دعاء طارق</td>\n      <td>do111311</td>\n      <td>NaN</td>\n      <td>NaN</td>\n      <td>NaN</td>\n      <td>5780</td>\n      <td>1864</td>\n      <td>2015-12-23</td>\n      <td>ar</td>\n      <td>und</td>\n      <td>https://t.co/jPILEdTVgb</td>\n      <td>2016-01-02 19:46</td>\n      <td>Twitter for Android</td>\n      <td>NaN</td>\n      <td>NaN</td>\n      <td>NaN</td>\n      <td>False</td>\n      <td>NaN</td>\n      <td>NaN</td>\n      <td>absent</td>\n      <td>absent</td>\n      <td>0.0</td>\n      <td>0.0</td>\n      <td>0.0</td>\n      <td>2.0</td>\n      <td>[]</td>\n      <td>[]</td>\n      <td>[]</td>\n      <td>NaN</td>\n    </tr>\n    <tr>\n      <th>1</th>\n      <td>736322347540598786</td>\n      <td>4573087637</td>\n      <td>دعاء طارق</td>\n      <td>do111311</td>\n      <td>NaN</td>\n      <td>NaN</td>\n      <td>NaN</td>\n      <td>5780</td>\n      <td>1864</td>\n      <td>2015-12-23</td>\n      <td>ar</td>\n      <td>und</td>\n      <td>https://t.co/uLZvFAUyma</td>\n      <td>2016-05-27 22:25</td>\n      <td>Twitter for Android</td>\n      <td>NaN</td>\n      <td>NaN</td>\n      <td>NaN</td>\n      <td>False</td>\n      <td>NaN</td>\n      <td>NaN</td>\n      <td>absent</td>\n      <td>absent</td>\n      <td>0.0</td>\n      <td>0.0</td>\n      <td>0.0</td>\n      <td>0.0</td>\n      <td>[]</td>\n      <td>[]</td>\n      <td>[]</td>\n      <td>NaN</td>\n    </tr>\n    <tr>\n      <th>2</th>\n      <td>691693837136302082</td>\n      <td>4573087637</td>\n      <td>دعاء طارق</td>\n      <td>do111311</td>\n      <td>NaN</td>\n      <td>NaN</td>\n      <td>NaN</td>\n      <td>5780</td>\n      <td>1864</td>\n      <td>2015-12-23</td>\n      <td>ar</td>\n      <td>ar</td>\n      <td>هههههه https://t.co/3J1olCVnPn</td>\n      <td>2016-01-25 18:47</td>\n      <td>Twitter for Android</td>\n      <td>NaN</td>\n      <td>NaN</td>\n      <td>NaN</td>\n      <td>False</td>\n      <td>NaN</td>\n      <td>NaN</td>\n      <td>absent</td>\n      <td>absent</td>\n      <td>0.0</td>\n      <td>0.0</td>\n      <td>0.0</td>\n      <td>0.0</td>\n      <td>[]</td>\n      <td>[]</td>\n      <td>[]</td>\n      <td>NaN</td>\n    </tr>\n    <tr>\n      <th>3</th>\n      <td>802862266043404288</td>\n      <td>4573087637</td>\n      <td>دعاء طارق</td>\n      <td>do111311</td>\n      <td>NaN</td>\n      <td>NaN</td>\n      <td>NaN</td>\n      <td>5780</td>\n      <td>1864</td>\n      <td>2015-12-23</td>\n      <td>ar</td>\n      <td>ar</td>\n      <td>#هنضرب_تميم_بالجزمة \\nائتلاف_نساء_مصر \\n#غرد_ف...</td>\n      <td>2016-11-27 13:10</td>\n      <td>Twitter for Android</td>\n      <td>NaN</td>\n      <td>NaN</td>\n      <td>NaN</td>\n      <td>False</td>\n      <td>NaN</td>\n      <td>NaN</td>\n      <td>absent</td>\n      <td>absent</td>\n      <td>0.0</td>\n      <td>1.0</td>\n      <td>0.0</td>\n      <td>0.0</td>\n      <td>['هنضرب_تميم_بالجزمة', 'غرد_فى_حب_الجيش_المصرى...</td>\n      <td>[]</td>\n      <td>[]</td>\n      <td>NaN</td>\n    </tr>\n    <tr>\n      <th>4</th>\n      <td>732544104102563841</td>\n      <td>4573087637</td>\n      <td>دعاء طارق</td>\n      <td>do111311</td>\n      <td>NaN</td>\n      <td>NaN</td>\n      <td>NaN</td>\n      <td>5780</td>\n      <td>1864</td>\n      <td>2015-12-23</td>\n      <td>ar</td>\n      <td>ar</td>\n      <td>هههههههههه https://t.co/33LWCHDmix</td>\n      <td>2016-05-17 12:11</td>\n      <td>Twitter for Android</td>\n      <td>NaN</td>\n      <td>NaN</td>\n      <td>NaN</td>\n      <td>False</td>\n      <td>NaN</td>\n      <td>NaN</td>\n      <td>absent</td>\n      <td>absent</td>\n      <td>0.0</td>\n      <td>2.0</td>\n      <td>3.0</td>\n      <td>1.0</td>\n      <td>[]</td>\n      <td>[]</td>\n      <td>[]</td>\n      <td>NaN</td>\n    </tr>\n  </tbody>\n</table>\n</div>"
     },
     "execution_count": 40,
     "metadata": {},
     "output_type": "execute_result"
    }
   ],
   "source": [
    "a = next(eg_tweets)\n",
    "a.head()"
   ],
   "metadata": {
    "collapsed": false,
    "ExecuteTime": {
     "end_time": "2023-09-16T15:21:20.412902453Z",
     "start_time": "2023-09-16T15:21:17.887546311Z"
    }
   },
   "id": "4ebd876d2e939fd8"
  },
  {
   "cell_type": "code",
   "execution_count": null,
   "id": "9f136a77-c3a2-42ff-acd3-35c29d962c75",
   "metadata": {
    "scrolled": true
   },
   "outputs": [],
   "source": [
    "user_groups = []\n",
    "\n",
    "# Group tweets by user for further analysis\n",
    "for chunk in eg_tweets:\n",
    "    \n",
    "    group = chunk.groupby(['userid'])\n",
    "    user_groups.append(group)\n",
    "    \n",
    "    del group\n",
    "\n",
    "print(user_groups)"
   ]
  },
  {
   "cell_type": "code",
   "execution_count": null,
   "id": "08d3836d-52a8-4d68-ba62-2a43367dc6f6",
   "metadata": {},
   "outputs": [],
   "source": [
    "# Create a series of counts of retweets per user\n",
    "user_ids = [group['is_retweet'].sum() for group in user_groups]"
   ]
  },
  {
   "cell_type": "code",
   "execution_count": null,
   "id": "4a38c32e-69b8-4221-949a-bc6d57437750",
   "metadata": {},
   "outputs": [],
   "source": [
    "retweet_per_user = pd.concat(user_ids)\n",
    "retweet_per_user = retweet_per_user.groupby('userid').sum()\n",
    "retweet_per_user = retweet_per_user.sort_values(ascending=False)"
   ]
  },
  {
   "cell_type": "code",
   "execution_count": null,
   "id": "8c5c2ff8-f8ee-4882-aa22-3a3ea3229e94",
   "metadata": {},
   "outputs": [],
   "source": [
    "retweet_per_user.to_json(\"reweets_count_per_account.json\")"
   ]
  },
  {
   "cell_type": "code",
   "execution_count": 30,
   "id": "20635d9c-658e-4a21-a242-2b25043f6616",
   "metadata": {
    "ExecuteTime": {
     "end_time": "2023-09-16T15:12:31.254196906Z",
     "start_time": "2023-09-16T15:12:31.252590459Z"
    }
   },
   "outputs": [],
   "source": [
    "agg_freqs = pd.Series(dtype=int)"
   ]
  },
  {
   "cell_type": "code",
   "execution_count": 31,
   "id": "b03e8c9a-a04a-4915-874f-3a5e4f5b7946",
   "metadata": {
    "ExecuteTime": {
     "end_time": "2023-09-16T15:12:31.902189311Z",
     "start_time": "2023-09-16T15:12:31.898155557Z"
    }
   },
   "outputs": [],
   "source": [
    "processor = ArProcessor()\n",
    "timey = TimeLess()"
   ]
  },
  {
   "cell_type": "markdown",
   "id": "7f18d4592c99541c",
   "metadata": {
    "collapsed": false
   },
   "source": [
    "## Text Processing: extracting word counts from tweets\n",
    "### Serial Execution: 30 min."
   ]
  },
  {
   "cell_type": "code",
   "execution_count": null,
   "id": "1db7fd1e-b828-47c1-b7d4-d285a2c738d7",
   "metadata": {
    "ExecuteTime": {
     "end_time": "2023-08-19T11:46:18.615040568Z",
     "start_time": "2023-08-19T11:42:48.970692740Z"
    }
   },
   "outputs": [],
   "source": [
    "timey.start()\n",
    "\n",
    "for i, chunk in enumerate(eg_tweets, start=1):\n",
    "    # Apply the processing code to the current chunk\n",
    "    word_freq_chunk = processor.get_count(chunk, \"tweet_text\")\n",
    "\n",
    "    # Update the overall word frequency with the current chunk's word frequency\n",
    "    agg_freqs = agg_freqs.add(word_freq_chunk, fill_value=0)\n",
    "\n",
    "    # Free up memory after processing the chunk\n",
    "    del word_freq_chunk\n",
    "\n",
    "    print(f\"Processed Chunk {i}\")\n",
    "\n",
    "timey.end()"
   ]
  },
  {
   "cell_type": "markdown",
   "id": "7af901ea30624fd2",
   "metadata": {
    "collapsed": false
   },
   "source": [
    "### Parallel execution: 7 mins. 48 sec."
   ]
  },
  {
   "cell_type": "code",
   "execution_count": 32,
   "id": "1b973227-da86-4724-83e5-e355f5e773bd",
   "metadata": {
    "ExecuteTime": {
     "end_time": "2023-09-16T15:12:43.141589731Z",
     "start_time": "2023-09-16T15:12:43.139250566Z"
    }
   },
   "outputs": [],
   "source": [
    "from concurrent.futures import ProcessPoolExecutor"
   ]
  },
  {
   "cell_type": "code",
   "execution_count": 33,
   "id": "717cebbc-49b1-450b-9483-025769557159",
   "metadata": {
    "ExecuteTime": {
     "end_time": "2023-09-16T15:12:45.346459851Z",
     "start_time": "2023-09-16T15:12:45.340618294Z"
    }
   },
   "outputs": [],
   "source": [
    "def exc_parallel(chunk, i):\n",
    "    logger.info(\"Started processing chunk %s\", i)\n",
    "    word_freq_chunk = processor.get_count(chunk, \"tweet_text\")\n",
    "    logger.info(\"Finished processing chunk %s\", i)\n",
    "    return word_freq_chunk"
   ]
  },
  {
   "cell_type": "code",
   "execution_count": 34,
   "id": "3ea0c4ac-7969-4100-bf51-d97544981ff3",
   "metadata": {
    "scrolled": true,
    "ExecuteTime": {
     "end_time": "2023-09-16T15:13:38.831064509Z",
     "start_time": "2023-09-16T15:12:46.119520766Z"
    }
   },
   "outputs": [
    {
     "name": "stdout",
     "output_type": "stream",
     "text": [
      "2023-09-16 18:12:46,118 - INFO - Started recording\n",
      "2023-09-16 18:12:50,583 - INFO - Started processing chunk 1\n",
      "2023-09-16 18:12:54,014 - INFO - Started processing chunk 2\n",
      "2023-09-16 18:12:57,185 - INFO - Started processing chunk 3\n",
      "2023-09-16 18:13:00,433 - INFO - Started processing chunk 4\n",
      "2023-09-16 18:13:03,767 - INFO - Started processing chunk 5\n",
      "2023-09-16 18:13:07,021 - INFO - Started processing chunk 6\n",
      "2023-09-16 18:13:10,315 - INFO - Started processing chunk 7\n",
      "2023-09-16 18:13:13,526 - INFO - Started processing chunk 8\n",
      "2023-09-16 18:13:16,863 - INFO - Started processing chunk 9\n",
      "2023-09-16 18:13:20,256 - INFO - Started processing chunk 10\n",
      "2023-09-16 18:13:23,384 - INFO - Started processing chunk 11\n",
      "2023-09-16 18:13:26,509 - INFO - Started processing chunk 12\n",
      "2023-09-16 18:13:29,747 - INFO - Started processing chunk 13\n",
      "2023-09-16 18:13:33,056 - INFO - Started processing chunk 14\n",
      "2023-09-16 18:13:36,284 - INFO - Started processing chunk 15\n",
      "2023-09-16 18:13:38,684 - INFO - Started processing chunk 16\n",
      "2023-09-16 18:13:38,822 - INFO - Finished recording. Experiment time 52.703022718429565 seconds\n"
     ]
    },
    {
     "data": {
      "text/plain": "52.703022718429565"
     },
     "execution_count": 34,
     "metadata": {},
     "output_type": "execute_result"
    }
   ],
   "source": [
    "timey.start()\n",
    "max_workers = 4\n",
    "futures = []\n",
    "\n",
    "with ProcessPoolExecutor(max_workers=max_workers) as exc:\n",
    "    \n",
    "    for i, chunk in enumerate(eg_tweets, start=1):\n",
    "        \n",
    "        if len(futures) == max_workers:\n",
    "            # Don't feed the executor more than four processes\n",
    "            while sum(1 for future in futures if future.done()) < max_workers:\n",
    "                pass\n",
    "        futures.append(exc.submit(exc_parallel, chunk, i))\n",
    "\n",
    "timey.end()"
   ]
  },
  {
   "cell_type": "code",
   "execution_count": 35,
   "id": "d54ab797-9b55-4745-83cd-8f986b5dae5d",
   "metadata": {
    "ExecuteTime": {
     "end_time": "2023-09-16T15:13:45.258547312Z",
     "start_time": "2023-09-16T15:13:45.256849021Z"
    }
   },
   "outputs": [],
   "source": [
    "agg_freqs = agg_freqs.sort_values(ascending=False)"
   ]
  },
  {
   "cell_type": "code",
   "execution_count": 38,
   "id": "1ae79bae-4de6-4de4-bc57-bc568033d3c2",
   "metadata": {
    "ExecuteTime": {
     "end_time": "2023-09-16T15:14:44.882390983Z",
     "start_time": "2023-09-16T15:14:44.875275568Z"
    }
   },
   "outputs": [],
   "source": [
    "agg_freqs.to_json('/home/naggar/repos/Optimus/word_counts.json')"
   ]
  },
  {
   "cell_type": "code",
   "execution_count": null,
   "id": "f466aa3d-7a5c-4067-a219-4ca6cc663c06",
   "metadata": {},
   "outputs": [],
   "source": [
    "@interact(num_words=widgets.IntSlider(min=5, max=100, step=1, value=10, description='Num Words'))\n",
    "def plot_wordcloud(num_words):\n",
    "    top_words = agg_freqs.head(num_words)\n",
    "    arabic_wordcloud = WordCloud(\n",
    "        width=800,\n",
    "        height=400,\n",
    "        background_color='white',\n",
    "        font_path='/home/naggar/repos/twitter_accounts_analysis/data/fonts/Cairo/static/Cairo-Medium.ttf'\n",
    "    )\n",
    "    print(top_words.index)\n",
    "    arabic_text = ' '.join(top_words.index)\n",
    "    arabic_wordcloud.generate(arabic_text)\n",
    "    \n",
    "    plt.figure(figsize=(10, 5))\n",
    "    plt.imshow(arabic_wordcloud, interpolation='bilinear')\n",
    "    plt.axis('off')\n",
    "    plt.show()"
   ]
  },
  {
   "cell_type": "code",
   "execution_count": null,
   "id": "6b87db5e-41c9-4a61-a5bb-20dab426cdd7",
   "metadata": {},
   "outputs": [],
   "source": [
    "import plotly.express as px\n",
    "\n",
    "agg_freqs = pd.read_json('word_counts.json', typ='series')\n",
    "agg_freqs = agg_freqs.drop('RT')"
   ]
  },
  {
   "cell_type": "code",
   "execution_count": null,
   "id": "60b42f09-eeff-4c64-a4e1-16850a5002f2",
   "metadata": {},
   "outputs": [],
   "source": [
    "@interact(num_words=widgets.IntSlider(min=5, max=100, step=1, value=10, description='Num Words'))\n",
    "def interactive_bar_chart(num_words):\n",
    "    \n",
    "    top_hundred_words = agg_freqs.head(num_words).reset_index()\n",
    "    top_hundred_words.columns = ['Word', 'Count']\n",
    "    fig = px.bar(top_hundred_words, x='Word', y='Count', color='Count', text='Word', labels={'Count': 'Counts'},\n",
    "             title='Top 100 Words and Their Counts')\n",
    "    fig.update_traces(texttemplate='%{text}', textposition='outside')\n",
    "    fig.update_layout(xaxis_title='Words', yaxis_title='Counts', xaxis_tickangle=-45,\n",
    "                      xaxis_tickfont=dict(size=12), yaxis_tickfont=dict(size=12),\n",
    "                      title_font=dict(size=16))\n",
    "    fig.show()"
   ]
  },
  {
   "cell_type": "code",
   "execution_count": null,
   "id": "d7849d9f-02f6-4f08-b45f-a2ec6a78f510",
   "metadata": {},
   "outputs": [],
   "source": [
    "retweets_freqs = pd.read_json('reweets_count_per_account.json', typ='series')\n",
    "eg_accounts = pd.read_csv('data/hashed_2020_04_egypt_022020_egypt_022020_users_csv_hashed/egypt_022020_users_csv_hashed.csv')"
   ]
  },
  {
   "cell_type": "code",
   "execution_count": null,
   "id": "d08dcc80-b61b-4346-972d-e356142498da",
   "metadata": {
    "scrolled": true
   },
   "outputs": [],
   "source": [
    "retweets_df = retweets_freqs.reset_index()\n",
    "retweets_df.columns =  ['userid', 'retweets_count']\n",
    "retweets_df = retweets_df.merge(eg_accounts,on='userid', how='left')\n",
    "retweets_df"
   ]
  },
  {
   "cell_type": "code",
   "execution_count": null,
   "id": "a99f77e0-8e16-46d3-b593-1765fc05c5ee",
   "metadata": {},
   "outputs": [],
   "source": [
    "@interact(num_accounts=widgets.IntSlider(min=5, max=100, step=1, value=10, description='Numeber of retweets per account.'))\n",
    "def interactive_bar_chart(num_accounts):\n",
    "    \n",
    "    top_hundred_words = pd.DataFrame(\n",
    "        {'Account': retweets_df['user_display_name'].head(num_accounts),\n",
    "         'Retweets Count': retweets_df['retweets_count'].head(num_accounts)}\n",
    "    )\n",
    "                                      \n",
    "    top_hundred_words.columns = ['Account', 'Retweets Count']\n",
    "    fig = px.bar(top_hundred_words, x='Account', y='Retweets Count', color='Retweets Count', text='Account', labels={'Retweets Count': 'Retweets Count'},\n",
    "             title=f'Top {num_accounts} most retweeting accounts.')\n",
    "    fig.update_traces(texttemplate='%{text}', textposition='outside')\n",
    "    fig.update_layout(xaxis_title='Accounts', yaxis_title='Retweets Counts', xaxis_tickangle=-45,\n",
    "                      xaxis_tickfont=dict(size=12), yaxis_tickfont=dict(size=12),\n",
    "                      title_font=dict(size=16))\n",
    "    fig.show()"
   ]
  },
  {
   "cell_type": "code",
   "execution_count": null,
   "id": "69e9e4c1-b1b0-4cb9-b1a0-7723d5e357e5",
   "metadata": {},
   "outputs": [],
   "source": [
    "import networkx as nx\n",
    "import plotly.graph_objs as go\n",
    "from plotly.offline import init_notebook_mode, iplot\n",
    "\n",
    "# Initialize Plotly in Jupyter Notebook\n",
    "init_notebook_mode(connected=True)\n",
    "\n",
    "# Sample data: Edges represent interactions between accounts\n",
    "edges = [\n",
    "    ('user1', 'user2'),\n",
    "    ('user2', 'user3'),\n",
    "    ('user3', 'user1'),\n",
    "    ('user4', 'user1'),\n",
    "    ('user4', 'user2'),\n",
    "]\n",
    "\n",
    "# Create a directed graph from the edges\n",
    "G = nx.DiGraph()\n",
    "G.add_edges_from(edges)\n",
    "\n",
    "# Define layout\n",
    "layout = nx.spring_layout(G)\n",
    "\n",
    "# Create nodes and edges for Plotly visualization\n",
    "node_trace = go.Scatter(\n",
    "    x=[layout[k][0] for k in G.nodes()],\n",
    "    y=[layout[k][1] for k in G.nodes()],\n",
    "    text=list(G.nodes()),\n",
    "    mode='markers+text',\n",
    "    hoverinfo='text',\n",
    "    marker=dict(size=20),  # Increase the size of the nodes\n",
    ")\n",
    "\n",
    "edge_trace = go.Scatter(\n",
    "    x=[layout[e[0]][0] for e in G.edges()],\n",
    "    y=[layout[e[0]][1] for e in G.edges()],\n",
    "    line=dict(width=0.5, color='#888'),\n",
    "    hoverinfo='none',\n",
    "    mode='lines',\n",
    ")\n",
    "\n",
    "# Create Plotly figure\n",
    "fig = go.Figure(\n",
    "    data=[edge_trace, node_trace],\n",
    "    layout=go.Layout(\n",
    "        showlegend=False,\n",
    "        hovermode='closest',\n",
    "        margin=dict(b=0, l=0, r=0, t=0),\n",
    "    ),\n",
    ")\n",
    "\n",
    "# Display the interactive visualization in the Jupyter Notebook\n",
    "iplot(fig)\n"
   ]
  },
  {
   "cell_type": "code",
   "execution_count": null,
   "id": "305712bc-eee0-459e-bf9b-66aea5885a83",
   "metadata": {},
   "outputs": [],
   "source": []
  }
 ],
 "metadata": {
  "kernelspec": {
   "display_name": "Python 3 (ipykernel)",
   "language": "python",
   "name": "python3"
  },
  "language_info": {
   "codemirror_mode": {
    "name": "ipython",
    "version": 3
   },
   "file_extension": ".py",
   "mimetype": "text/x-python",
   "name": "python",
   "nbconvert_exporter": "python",
   "pygments_lexer": "ipython3",
   "version": "3.11.5"
  }
 },
 "nbformat": 4,
 "nbformat_minor": 5
}
